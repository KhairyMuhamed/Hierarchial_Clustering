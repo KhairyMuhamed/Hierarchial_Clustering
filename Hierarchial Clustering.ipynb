{
 "cells": [
  {
   "cell_type": "markdown",
   "metadata": {},
   "source": [
    "### Data set link\n",
    "https://www.kaggle.com/ronitf/heart-disease-uci"
   ]
  },
  {
   "cell_type": "code",
   "execution_count": 2,
   "metadata": {},
   "outputs": [
    {
     "name": "stdout",
     "output_type": "stream",
     "text": [
      "Requirement already satisfied: scikit-learn-extra in c:\\users\\laphouse\\anaconda3\\lib\\site-packages (0.2.0)\n",
      "Requirement already satisfied: numpy>=1.13.3 in c:\\users\\laphouse\\anaconda3\\lib\\site-packages (from scikit-learn-extra) (1.19.5)\n",
      "Requirement already satisfied: scipy>=0.19.1 in c:\\users\\laphouse\\anaconda3\\lib\\site-packages (from scikit-learn-extra) (1.5.0)\n",
      "Requirement already satisfied: scikit-learn>=0.23.0 in c:\\users\\laphouse\\anaconda3\\lib\\site-packages (from scikit-learn-extra) (0.23.1)\n",
      "Requirement already satisfied: joblib>=0.11 in c:\\users\\laphouse\\anaconda3\\lib\\site-packages (from scikit-learn>=0.23.0->scikit-learn-extra) (0.16.0)\n",
      "Requirement already satisfied: threadpoolctl>=2.0.0 in c:\\users\\laphouse\\anaconda3\\lib\\site-packages (from scikit-learn>=0.23.0->scikit-learn-extra) (2.1.0)\n"
     ]
    }
   ],
   "source": [
    "!pip install scikit-learn-extra"
   ]
  },
  {
   "cell_type": "code",
   "execution_count": 3,
   "metadata": {},
   "outputs": [],
   "source": [
    "import numpy as np\n",
    "import pandas as pd\n",
    "import matplotlib.pyplot as plt\n",
    "import scipy.cluster.hierarchy as sch\n",
    "from sklearn.cluster import AgglomerativeClustering"
   ]
  },
  {
   "cell_type": "markdown",
   "metadata": {},
   "source": [
    "### read data file"
   ]
  },
  {
   "cell_type": "code",
   "execution_count": 4,
   "metadata": {},
   "outputs": [],
   "source": [
    "heartdisease= pd.read_csv('heart.csv')"
   ]
  },
  {
   "cell_type": "code",
   "execution_count": 5,
   "metadata": {},
   "outputs": [
    {
     "data": {
      "text/plain": [
       "<bound method NDFrame.head of      age  sex  cp  trestbps  chol  fbs  restecg  thalach  exang  oldpeak  \\\n",
       "0     63    1   3       145   233    1        0      150      0      2.3   \n",
       "1     37    1   2       130   250    0        1      187      0      3.5   \n",
       "2     41    0   1       130   204    0        0      172      0      1.4   \n",
       "3     56    1   1       120   236    0        1      178      0      0.8   \n",
       "4     57    0   0       120   354    0        1      163      1      0.6   \n",
       "..   ...  ...  ..       ...   ...  ...      ...      ...    ...      ...   \n",
       "298   57    0   0       140   241    0        1      123      1      0.2   \n",
       "299   45    1   3       110   264    0        1      132      0      1.2   \n",
       "300   68    1   0       144   193    1        1      141      0      3.4   \n",
       "301   57    1   0       130   131    0        1      115      1      1.2   \n",
       "302   57    0   1       130   236    0        0      174      0      0.0   \n",
       "\n",
       "     slope  ca  thal  target  \n",
       "0        0   0     1       1  \n",
       "1        0   0     2       1  \n",
       "2        2   0     2       1  \n",
       "3        2   0     2       1  \n",
       "4        2   0     2       1  \n",
       "..     ...  ..   ...     ...  \n",
       "298      1   0     3       0  \n",
       "299      1   0     3       0  \n",
       "300      1   2     3       0  \n",
       "301      1   1     3       0  \n",
       "302      1   1     2       0  \n",
       "\n",
       "[303 rows x 14 columns]>"
      ]
     },
     "execution_count": 5,
     "metadata": {},
     "output_type": "execute_result"
    }
   ],
   "source": [
    "heartdisease.head"
   ]
  },
  {
   "cell_type": "markdown",
   "metadata": {},
   "source": [
    "### select needed features"
   ]
  },
  {
   "cell_type": "code",
   "execution_count": 6,
   "metadata": {},
   "outputs": [
    {
     "data": {
      "text/plain": [
       "array([[ 63, 145],\n",
       "       [ 37, 130],\n",
       "       [ 41, 130],\n",
       "       [ 56, 120],\n",
       "       [ 57, 120],\n",
       "       [ 57, 140],\n",
       "       [ 56, 140],\n",
       "       [ 44, 120],\n",
       "       [ 52, 172],\n",
       "       [ 57, 150],\n",
       "       [ 54, 140],\n",
       "       [ 48, 130],\n",
       "       [ 49, 130],\n",
       "       [ 64, 110],\n",
       "       [ 58, 150],\n",
       "       [ 50, 120],\n",
       "       [ 58, 120],\n",
       "       [ 66, 150],\n",
       "       [ 43, 150],\n",
       "       [ 69, 140],\n",
       "       [ 59, 135],\n",
       "       [ 44, 130],\n",
       "       [ 42, 140],\n",
       "       [ 61, 150],\n",
       "       [ 40, 140],\n",
       "       [ 71, 160],\n",
       "       [ 59, 150],\n",
       "       [ 51, 110],\n",
       "       [ 65, 140],\n",
       "       [ 53, 130],\n",
       "       [ 41, 105],\n",
       "       [ 65, 120],\n",
       "       [ 44, 130],\n",
       "       [ 54, 125],\n",
       "       [ 51, 125],\n",
       "       [ 46, 142],\n",
       "       [ 54, 135],\n",
       "       [ 54, 150],\n",
       "       [ 65, 155],\n",
       "       [ 65, 160],\n",
       "       [ 51, 140],\n",
       "       [ 48, 130],\n",
       "       [ 45, 104],\n",
       "       [ 53, 130],\n",
       "       [ 39, 140],\n",
       "       [ 52, 120],\n",
       "       [ 44, 140],\n",
       "       [ 47, 138],\n",
       "       [ 53, 128],\n",
       "       [ 53, 138],\n",
       "       [ 51, 130],\n",
       "       [ 66, 120],\n",
       "       [ 62, 130],\n",
       "       [ 44, 108],\n",
       "       [ 63, 135],\n",
       "       [ 52, 134],\n",
       "       [ 48, 122],\n",
       "       [ 45, 115],\n",
       "       [ 34, 118],\n",
       "       [ 57, 128],\n",
       "       [ 71, 110],\n",
       "       [ 54, 108],\n",
       "       [ 52, 118],\n",
       "       [ 41, 135],\n",
       "       [ 58, 140],\n",
       "       [ 35, 138],\n",
       "       [ 51, 100],\n",
       "       [ 45, 130],\n",
       "       [ 44, 120],\n",
       "       [ 62, 124],\n",
       "       [ 54, 120],\n",
       "       [ 51,  94],\n",
       "       [ 29, 130],\n",
       "       [ 51, 140],\n",
       "       [ 43, 122],\n",
       "       [ 55, 135],\n",
       "       [ 51, 125],\n",
       "       [ 59, 140],\n",
       "       [ 52, 128],\n",
       "       [ 58, 105],\n",
       "       [ 41, 112],\n",
       "       [ 45, 128],\n",
       "       [ 60, 102],\n",
       "       [ 52, 152],\n",
       "       [ 42, 102],\n",
       "       [ 67, 115],\n",
       "       [ 68, 118],\n",
       "       [ 46, 101],\n",
       "       [ 54, 110],\n",
       "       [ 58, 100],\n",
       "       [ 48, 124],\n",
       "       [ 57, 132],\n",
       "       [ 52, 138],\n",
       "       [ 54, 132],\n",
       "       [ 45, 112],\n",
       "       [ 53, 142],\n",
       "       [ 62, 140],\n",
       "       [ 52, 108],\n",
       "       [ 43, 130],\n",
       "       [ 53, 130],\n",
       "       [ 42, 148],\n",
       "       [ 59, 178],\n",
       "       [ 63, 140],\n",
       "       [ 42, 120],\n",
       "       [ 50, 129],\n",
       "       [ 68, 120],\n",
       "       [ 69, 160],\n",
       "       [ 45, 138],\n",
       "       [ 50, 120],\n",
       "       [ 50, 110],\n",
       "       [ 64, 180],\n",
       "       [ 57, 150],\n",
       "       [ 64, 140],\n",
       "       [ 43, 110],\n",
       "       [ 55, 130],\n",
       "       [ 37, 120],\n",
       "       [ 41, 130],\n",
       "       [ 56, 120],\n",
       "       [ 46, 105],\n",
       "       [ 46, 138],\n",
       "       [ 64, 130],\n",
       "       [ 59, 138],\n",
       "       [ 41, 112],\n",
       "       [ 54, 108],\n",
       "       [ 39,  94],\n",
       "       [ 34, 118],\n",
       "       [ 47, 112],\n",
       "       [ 67, 152],\n",
       "       [ 52, 136],\n",
       "       [ 74, 120],\n",
       "       [ 54, 160],\n",
       "       [ 49, 134],\n",
       "       [ 42, 120],\n",
       "       [ 41, 110],\n",
       "       [ 41, 126],\n",
       "       [ 49, 130],\n",
       "       [ 60, 120],\n",
       "       [ 62, 128],\n",
       "       [ 57, 110],\n",
       "       [ 64, 128],\n",
       "       [ 51, 120],\n",
       "       [ 43, 115],\n",
       "       [ 42, 120],\n",
       "       [ 67, 106],\n",
       "       [ 76, 140],\n",
       "       [ 70, 156],\n",
       "       [ 44, 118],\n",
       "       [ 60, 150],\n",
       "       [ 44, 120],\n",
       "       [ 42, 130],\n",
       "       [ 66, 160],\n",
       "       [ 71, 112],\n",
       "       [ 64, 170],\n",
       "       [ 66, 146],\n",
       "       [ 39, 138],\n",
       "       [ 58, 130],\n",
       "       [ 47, 130],\n",
       "       [ 35, 122],\n",
       "       [ 58, 125],\n",
       "       [ 56, 130],\n",
       "       [ 56, 120],\n",
       "       [ 55, 132],\n",
       "       [ 41, 120],\n",
       "       [ 38, 138],\n",
       "       [ 38, 138],\n",
       "       [ 67, 160],\n",
       "       [ 67, 120],\n",
       "       [ 62, 140],\n",
       "       [ 63, 130],\n",
       "       [ 53, 140],\n",
       "       [ 56, 130],\n",
       "       [ 48, 110],\n",
       "       [ 58, 120],\n",
       "       [ 58, 132],\n",
       "       [ 60, 130],\n",
       "       [ 40, 110],\n",
       "       [ 60, 117],\n",
       "       [ 64, 140],\n",
       "       [ 43, 120],\n",
       "       [ 57, 150],\n",
       "       [ 55, 132],\n",
       "       [ 65, 150],\n",
       "       [ 61, 130],\n",
       "       [ 58, 112],\n",
       "       [ 50, 150],\n",
       "       [ 44, 112],\n",
       "       [ 60, 130],\n",
       "       [ 54, 124],\n",
       "       [ 50, 140],\n",
       "       [ 41, 110],\n",
       "       [ 51, 130],\n",
       "       [ 58, 128],\n",
       "       [ 54, 120],\n",
       "       [ 60, 145],\n",
       "       [ 60, 140],\n",
       "       [ 59, 170],\n",
       "       [ 46, 150],\n",
       "       [ 67, 125],\n",
       "       [ 62, 120],\n",
       "       [ 65, 110],\n",
       "       [ 44, 110],\n",
       "       [ 60, 125],\n",
       "       [ 58, 150],\n",
       "       [ 68, 180],\n",
       "       [ 62, 160],\n",
       "       [ 52, 128],\n",
       "       [ 59, 110],\n",
       "       [ 60, 150],\n",
       "       [ 49, 120],\n",
       "       [ 59, 140],\n",
       "       [ 57, 128],\n",
       "       [ 61, 120],\n",
       "       [ 39, 118],\n",
       "       [ 61, 145],\n",
       "       [ 56, 125],\n",
       "       [ 43, 132],\n",
       "       [ 62, 130],\n",
       "       [ 63, 130],\n",
       "       [ 65, 135],\n",
       "       [ 48, 130],\n",
       "       [ 63, 150],\n",
       "       [ 55, 140],\n",
       "       [ 65, 138],\n",
       "       [ 56, 200],\n",
       "       [ 54, 110],\n",
       "       [ 70, 145],\n",
       "       [ 62, 120],\n",
       "       [ 35, 120],\n",
       "       [ 59, 170],\n",
       "       [ 64, 125],\n",
       "       [ 47, 108],\n",
       "       [ 57, 165],\n",
       "       [ 55, 160],\n",
       "       [ 64, 120],\n",
       "       [ 70, 130],\n",
       "       [ 51, 140],\n",
       "       [ 58, 125],\n",
       "       [ 60, 140],\n",
       "       [ 77, 125],\n",
       "       [ 35, 126],\n",
       "       [ 70, 160],\n",
       "       [ 59, 174],\n",
       "       [ 64, 145],\n",
       "       [ 57, 152],\n",
       "       [ 56, 132],\n",
       "       [ 48, 124],\n",
       "       [ 56, 134],\n",
       "       [ 66, 160],\n",
       "       [ 54, 192],\n",
       "       [ 69, 140],\n",
       "       [ 51, 140],\n",
       "       [ 43, 132],\n",
       "       [ 62, 138],\n",
       "       [ 67, 100],\n",
       "       [ 59, 160],\n",
       "       [ 45, 142],\n",
       "       [ 58, 128],\n",
       "       [ 50, 144],\n",
       "       [ 62, 150],\n",
       "       [ 38, 120],\n",
       "       [ 66, 178],\n",
       "       [ 52, 112],\n",
       "       [ 53, 123],\n",
       "       [ 63, 108],\n",
       "       [ 54, 110],\n",
       "       [ 66, 112],\n",
       "       [ 55, 180],\n",
       "       [ 49, 118],\n",
       "       [ 54, 122],\n",
       "       [ 56, 130],\n",
       "       [ 46, 120],\n",
       "       [ 61, 134],\n",
       "       [ 67, 120],\n",
       "       [ 58, 100],\n",
       "       [ 47, 110],\n",
       "       [ 52, 125],\n",
       "       [ 58, 146],\n",
       "       [ 57, 124],\n",
       "       [ 58, 136],\n",
       "       [ 61, 138],\n",
       "       [ 42, 136],\n",
       "       [ 52, 128],\n",
       "       [ 59, 126],\n",
       "       [ 40, 152],\n",
       "       [ 61, 140],\n",
       "       [ 46, 140],\n",
       "       [ 59, 134],\n",
       "       [ 57, 154],\n",
       "       [ 57, 110],\n",
       "       [ 55, 128],\n",
       "       [ 61, 148],\n",
       "       [ 58, 114],\n",
       "       [ 58, 170],\n",
       "       [ 67, 152],\n",
       "       [ 44, 120],\n",
       "       [ 63, 140],\n",
       "       [ 63, 124],\n",
       "       [ 59, 164],\n",
       "       [ 57, 140],\n",
       "       [ 45, 110],\n",
       "       [ 68, 144],\n",
       "       [ 57, 130],\n",
       "       [ 57, 130]], dtype=int64)"
      ]
     },
     "execution_count": 6,
     "metadata": {},
     "output_type": "execute_result"
    }
   ],
   "source": [
    "data = heartdisease.iloc[:,[0,3]].values\n",
    "data"
   ]
  },
  {
   "cell_type": "markdown",
   "metadata": {},
   "source": [
    "### Hierarchial Clustering\n"
   ]
  },
  {
   "cell_type": "markdown",
   "metadata": {},
   "source": [
    "### Dendrogram plot"
   ]
  },
  {
   "cell_type": "code",
   "execution_count": 7,
   "metadata": {},
   "outputs": [
    {
     "data": {
      "image/png": "[encoded data removed]",
      "text/plain": [
       "<Figure size 432x288 with 1 Axes>"
      ]
     },
     "metadata": {
      "needs_background": "light"
     },
     "output_type": "display_data"
    }
   ],
   "source": [
    "dendrograme = sch.dendrogram(sch.linkage(data[100:200],'single'))"
   ]
  },
  {
   "cell_type": "markdown",
   "metadata": {},
   "source": [
    "### AgglomerativeClustering"
   ]
  },
  {
   "cell_type": "code",
   "execution_count": 8,
   "metadata": {},
   "outputs": [
    {
     "data": {
      "text/plain": [
       "array([0, 0, 0, 0, 0, 0, 0, 0, 0, 0, 0, 0, 0, 0, 0, 0, 0, 0, 0, 0, 0, 0,\n",
       "       0, 0, 0, 0, 0, 0, 0, 0, 0, 0, 0, 0, 0, 0, 0, 0, 0, 0, 0, 0, 0, 0,\n",
       "       0, 0, 0, 0, 0, 0, 0, 0, 0, 0, 0, 0, 0, 0, 0, 0, 0, 0, 0, 0, 0, 0,\n",
       "       0, 0, 0, 0, 0, 0, 4, 0, 0, 0, 0, 0, 0, 0, 0, 0, 0, 0, 0, 0, 0, 0,\n",
       "       0, 0, 0, 0, 0, 0, 0, 0, 0, 0, 0, 0, 0, 0, 0, 0, 0, 0, 0, 0, 0, 0,\n",
       "       0, 0, 0, 0, 0, 0, 0, 0, 0, 0, 0, 0, 0, 0, 3, 0, 0, 0, 0, 0, 0, 0,\n",
       "       0, 0, 0, 0, 0, 0, 0, 0, 0, 0, 0, 0, 0, 0, 0, 0, 0, 0, 0, 0, 0, 0,\n",
       "       0, 0, 0, 0, 0, 0, 0, 0, 0, 0, 0, 0, 0, 0, 0, 0, 0, 0, 0, 0, 0, 0,\n",
       "       0, 0, 0, 0, 0, 0, 0, 0, 0, 0, 0, 0, 0, 0, 0, 0, 0, 0, 0, 0, 0, 0,\n",
       "       0, 0, 0, 0, 0, 0, 0, 0, 0, 0, 0, 0, 0, 0, 0, 0, 0, 0, 0, 0, 0, 0,\n",
       "       0, 0, 0, 2, 0, 0, 0, 0, 0, 0, 0, 0, 0, 0, 0, 0, 0, 0, 0, 0, 0, 0,\n",
       "       0, 0, 0, 0, 0, 0, 1, 0, 0, 0, 0, 0, 0, 0, 0, 0, 0, 0, 0, 0, 0, 0,\n",
       "       0, 0, 0, 0, 0, 0, 0, 0, 0, 0, 0, 0, 0, 0, 0, 0, 0, 0, 0, 0, 0, 0,\n",
       "       0, 0, 0, 0, 0, 0, 0, 0, 0, 0, 0, 0, 0, 0, 0, 0, 0], dtype=int64)"
      ]
     },
     "execution_count": 8,
     "metadata": {},
     "output_type": "execute_result"
    }
   ],
   "source": [
    "cluster = AgglomerativeClustering(n_clusters =5 ,affinity='euclidean', linkage='single')\n",
    "cluster.fit_predict(data)"
   ]
  },
  {
   "cell_type": "markdown",
   "metadata": {},
   "source": [
    "### Clusters Scatter Plot"
   ]
  },
  {
   "cell_type": "code",
   "execution_count": 9,
   "metadata": {},
   "outputs": [
    {
     "data": {
      "text/plain": [
       "Text(0, 0.5, 'resting blood pressure in mm Hg')"
      ]
     },
     "execution_count": 9,
     "metadata": {},
     "output_type": "execute_result"
    },
    {
     "data": {
      "image/png": "[encoded data removed]",
      "text/plain": [
       "<Figure size 432x288 with 1 Axes>"
      ]
     },
     "metadata": {
      "needs_background": "light"
     },
     "output_type": "display_data"
    }
   ],
   "source": [
    "plt.scatter(data[:,0], data[:,1], c=cluster.labels_,cmap='rainbow')\n",
    "plt.title('cluster of patient')\n",
    "plt.xlabel('Patient age')\n",
    "plt.ylabel('resting blood pressure in mm Hg')"
   ]
  },
  {
   "cell_type": "code",
   "execution_count": null,
   "metadata": {},
   "outputs": [],
   "source": []
  }
 ],
 "metadata": {
  "kernelspec": {
   "display_name": "Python 3",
   "language": "python",
   "name": "python3"
  },
  "language_info": {
   "codemirror_mode": {
    "name": "ipython",
    "version": 3
   },
   "file_extension": ".py",
   "mimetype": "text/x-python",
   "name": "python",
   "nbconvert_exporter": "python",
   "pygments_lexer": "ipython3",
   "version": "3.8.3"
  }
 },
 "nbformat": 4,
 "nbformat_minor": 4
}
